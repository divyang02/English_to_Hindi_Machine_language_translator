{
 "cells": [
  {
   "cell_type": "code",
   "execution_count": 69,
   "metadata": {
    "collapsed": true
   },
   "outputs": [],
   "source": [
    "from __future__ import unicode_literals, print_function, division\n",
    "from io import open\n",
    "import unicodedata\n",
    "import string\n",
    "import re\n",
    "import random\n",
    "\n",
    "import torch\n",
    "import torch.nn as nn\n",
    "from torch import optim\n",
    "import torch.nn.functional as F\n",
    "\n",
    "device = torch.device(\"cuda\" if torch.cuda.is_available() else \"cpu\")"
   ]
  },
  {
   "cell_type": "code",
   "execution_count": 70,
   "metadata": {
    "collapsed": true
   },
   "outputs": [],
   "source": [
    "SOS_token = 0\n",
    "EOS_token = 1\n",
    "\n",
    "\n",
    "class Lang:\n",
    "    def __init__(self, name):\n",
    "        self.name = name\n",
    "        self.word2index = {}\n",
    "        self.word2count = {}\n",
    "        self.index2word = {0: \"SOS\", 1: \"EOS\"}\n",
    "        self.n_words = 2  # Count SOS and EOS\n",
    "\n",
    "    def addSentence(self, sentence):\n",
    "        for word in sentence.split(' '):\n",
    "            self.addWord(word)\n",
    "\n",
    "    def addWord(self, word):\n",
    "        if word not in self.word2index:\n",
    "            self.word2index[word] = self.n_words\n",
    "            self.word2count[word] = 1\n",
    "            self.index2word[self.n_words] = word\n",
    "            self.n_words += 1\n",
    "        else:\n",
    "            self.word2count[word] += 1"
   ]
  },
  {
   "cell_type": "code",
   "execution_count": 71,
   "metadata": {
    "collapsed": true
   },
   "outputs": [],
   "source": [
    "# Turn a Unicode string to plain ASCII, thanks to\n",
    "# http://stackoverflow.com/a/518232/2809427\n",
    "def unicodeToAscii(s):\n",
    "    return ''.join(\n",
    "        c for c in unicodedata.normalize('NFD', s)\n",
    "        if unicodedata.category(c) != 'Mn'\n",
    "    )\n",
    "\n",
    "# Lowercase, trim, and remove non-letter characters\n",
    "\n",
    "\n",
    "def normalizeString(s):\n",
    "    s = unicodeToAscii(s.lower().strip())\n",
    "    return s"
   ]
  },
  {
   "cell_type": "code",
   "execution_count": 72,
   "metadata": {
    "collapsed": true
   },
   "outputs": [],
   "source": [
    "def readLangs(lang1, lang2, reverse=False):\n",
    "    print(\"Reading lines...\")\n",
    "\n",
    "    # Read the file and split into lines\n",
    "    lines = open('data/%s-%s.txt' % (lang1, lang2), encoding='utf-8').\\\n",
    "        read().strip().split('\\n')\n",
    "\n",
    "    # Split every line into pairs and normalize\n",
    "    pairs = [[normalizeString(s) for s in l.split('    ')] for l in lines]\n",
    "\n",
    "    # Reverse pairs, make Lang instances\n",
    "    if reverse:\n",
    "        pairs = [list(reversed(p)) for p in pairs]\n",
    "        input_lang = Lang(lang2)\n",
    "        output_lang = Lang(lang1)\n",
    "    else:\n",
    "        input_lang = Lang(lang2)\n",
    "        output_lang = Lang(lang1)\n",
    "\n",
    "    return input_lang, output_lang, pairs"
   ]
  },
  {
   "cell_type": "code",
   "execution_count": 73,
   "metadata": {
    "collapsed": true
   },
   "outputs": [],
   "source": [
    "MAX_LENGTH = 10\n",
    "\n",
    "\n",
    "\n",
    "\n",
    "def filterPair(p):\n",
    "    return len(p[0].split(' ')) < MAX_LENGTH and \\\n",
    "        len(p[1].split(' ')) < MAX_LENGTH \n",
    "\n",
    "\n",
    "\n",
    "def filterPairs(pairs):\n",
    "    return [pair for pair in pairs if filterPair(pair)]"
   ]
  },
  {
   "cell_type": "code",
   "execution_count": 75,
   "metadata": {},
   "outputs": [
    {
     "name": "stdout",
     "output_type": "stream",
     "text": [
      "Reading lines...\n",
      "Read 49999 sentence pairs\n",
      "Trimmed to 4914 sentence pairs\n",
      "Counting words...\n",
      "Counted words:\n",
      "hin 5602\n",
      "eng 6317\n",
      "['shivlinga is in jwaleshwar mahadev .', 'जवालश\\u200dवर महादव मदिर म शिवलिग ह ।']\n",
      "[\"every year magazine makes a questionnaire available online for it 's readers .\", 'मगजीन अपन पाठको को हर साल एक परशनोततरी ऑनलाइन उपलबध कराती ह ।']\n"
     ]
    }
   ],
   "source": [
    "def prepareData(lang1, lang2, reverse=False):\n",
    "    input_lang, output_lang, pairs = readLangs(lang1, lang2, reverse)\n",
    "    print(\"Read %s sentence pairs\" % len(pairs))\n",
    "    pairs = filterPairs(pairs)\n",
    "    print(\"Trimmed to %s sentence pairs\" % len(pairs))\n",
    "    print(\"Counting words...\")\n",
    "\n",
    "    for pair in pairs :\n",
    "        input_lang.addSentence(pair[0])\n",
    "        output_lang.addSentence(pair[1])\n",
    "\n",
    "    print(\"Counted words:\")\n",
    "    print(input_lang.name, input_lang.n_words)\n",
    "    print(output_lang.name, output_lang.n_words)\n",
    "\n",
    "    return input_lang, output_lang, pairs\n",
    "\n",
    "\n",
    "input_lang, output_lang, pairs = prepareData('eng', 'hin', False)\n",
    "print(random.choice(pairs))\n",
    "print(random.choice(pairs_test))"
   ]
  },
  {
   "cell_type": "code",
   "execution_count": 76,
   "metadata": {},
   "outputs": [
    {
     "name": "stdout",
     "output_type": "stream",
     "text": [
      "3931\n",
      "4914\n",
      "6240\n"
     ]
    },
    {
     "data": {
      "text/plain": [
       "983"
      ]
     },
     "execution_count": 76,
     "metadata": {},
     "output_type": "execute_result"
    }
   ],
   "source": [
    "b = (int)(len(pairs)*0.8)\n",
    "print(b)\n",
    "print(len(pairs))\n",
    "ads = 31199-24959\n",
    "print(ads)\n",
    "len(pairs[b:])"
   ]
  },
  {
   "cell_type": "code",
   "execution_count": 77,
   "metadata": {
    "collapsed": true
   },
   "outputs": [],
   "source": [
    "class EncoderRNN(nn.Module):\n",
    "    def __init__(self, input_size, hidden_size):\n",
    "        super(EncoderRNN, self).__init__()\n",
    "        self.hidden_size = hidden_size\n",
    "\n",
    "        self.embedding = nn.Embedding(input_size, hidden_size)\n",
    "        self.gru = nn.GRU(hidden_size, hidden_size)\n",
    "\n",
    "    def forward(self, input, hidden):\n",
    "        embedded = self.embedding(input).view(1, 1, -1)\n",
    "        output = embedded\n",
    "        output, hidden = self.gru(output, hidden)\n",
    "        return output, hidden\n",
    "\n",
    "    def initHidden(self):\n",
    "        return torch.zeros(1, 1, self.hidden_size, device=device)"
   ]
  },
  {
   "cell_type": "code",
   "execution_count": 78,
   "metadata": {
    "collapsed": true
   },
   "outputs": [],
   "source": [
    "class AttnDecoderRNN(nn.Module):\n",
    "    def __init__(self, hidden_size, output_size, dropout_p=0.1, max_length=MAX_LENGTH):\n",
    "        super(AttnDecoderRNN, self).__init__()\n",
    "        self.hidden_size = hidden_size\n",
    "        self.output_size = output_size\n",
    "        self.dropout_p = dropout_p\n",
    "        self.max_length = max_length\n",
    "\n",
    "        self.embedding = nn.Embedding(self.output_size, self.hidden_size)\n",
    "        self.attn = nn.Linear(2816, self.max_length)\n",
    "\n",
    "        self.attn_combine = nn.Linear(self.hidden_size * 2, self.hidden_size)\n",
    "        self.dropout = nn.Dropout(self.dropout_p)\n",
    "        self.gru = nn.GRU(self.hidden_size, self.hidden_size)\n",
    "        self.out = nn.Linear(self.hidden_size, self.output_size)\n",
    "\n",
    "    def forward(self, input, hidden, encoder_outputs):\n",
    "\n",
    "        embedded = self.embedding(input).view(1, 1, -1)\n",
    "        embedded = self.dropout(embedded)\n",
    "\n",
    "        \n",
    "        attn_weights = F.softmax(\n",
    "            self.attn(torch.cat((encoder_outputs.view(1, encoder_outputs.shape[0]*encoder_outputs.shape[1]), hidden[0]), 1)), dim=1)\n",
    "        attn_applied = torch.bmm(attn_weights.unsqueeze(0),\n",
    "                                 encoder_outputs.unsqueeze(0))\n",
    "\n",
    "        output = torch.cat((embedded[0], attn_applied[0]), 1)\n",
    "        output = self.attn_combine(output).unsqueeze(0)\n",
    "\n",
    "        output = F.relu(output)\n",
    "        output, hidden = self.gru(output, hidden)\n",
    "\n",
    "        output = F.log_softmax(self.out(output[0]), dim=1)\n",
    "        return output, hidden, attn_weights\n",
    "\n",
    "    def initHidden(self):\n",
    "        return torch.zeros(1, 1, self.hidden_size, device=device)"
   ]
  },
  {
   "cell_type": "code",
   "execution_count": 79,
   "metadata": {
    "collapsed": true
   },
   "outputs": [],
   "source": [
    "def indexesFromSentence(lang, sentence):\n",
    "    return [lang.word2index[word] for word in sentence.split(' ')]\n",
    "\n",
    "\n",
    "def tensorFromSentence(lang, sentence):\n",
    "    indexes = indexesFromSentence(lang, sentence)\n",
    "    indexes.append(EOS_token)\n",
    "    return torch.tensor(indexes, dtype=torch.long, device=device).view(-1, 1)\n",
    "\n",
    "\n",
    "def tensorsFromPair(pair):\n",
    "    input_tensor = tensorFromSentence(input_lang, pair[0])\n",
    "    target_tensor = tensorFromSentence(output_lang, pair[1])\n",
    "    return (input_tensor, target_tensor)"
   ]
  },
  {
   "cell_type": "code",
   "execution_count": 80,
   "metadata": {
    "collapsed": true
   },
   "outputs": [],
   "source": [
    "teacher_forcing_ratio = 0.5\n",
    "\n",
    "\n",
    "def train(input_tensor, target_tensor, encoder, decoder, encoder_optimizer, decoder_optimizer, criterion, max_length=MAX_LENGTH):\n",
    "    encoder_hidden = encoder.initHidden()\n",
    "\n",
    "    encoder_optimizer.zero_grad()\n",
    "    decoder_optimizer.zero_grad()\n",
    "\n",
    "    input_length = input_tensor.size(0)\n",
    "    target_length = target_tensor.size(0)\n",
    "\n",
    "    encoder_outputs = torch.zeros(max_length, encoder.hidden_size, device=device)\n",
    "\n",
    "    loss = 0\n",
    "\n",
    "    for ei in range(input_length):\n",
    "        encoder_output, encoder_hidden = encoder(\n",
    "            input_tensor[ei], encoder_hidden)\n",
    "        encoder_outputs[ei] = encoder_output[0, 0]\n",
    "\n",
    "    decoder_input = torch.tensor([[SOS_token]], device=device)\n",
    "\n",
    "    decoder_hidden = encoder_hidden\n",
    "\n",
    "    use_teacher_forcing = True if random.random() < teacher_forcing_ratio else False\n",
    "\n",
    "    if use_teacher_forcing:\n",
    "        # Teacher forcing: Feed the target as the next input\n",
    "        for di in range(target_length):\n",
    "            decoder_output, decoder_hidden, decoder_attention = decoder(\n",
    "                decoder_input, decoder_hidden, encoder_outputs)\n",
    "            loss += criterion(decoder_output, target_tensor[di])\n",
    "            decoder_input = target_tensor[di]  # Teacher forcing\n",
    "\n",
    "    else:\n",
    "        # Without teacher forcing: use its own predictions as the next input\n",
    "        for di in range(target_length):\n",
    "            decoder_output, decoder_hidden, decoder_attention = decoder(\n",
    "                decoder_input, decoder_hidden, encoder_outputs)\n",
    "            topv, topi = decoder_output.topk(1)\n",
    "            decoder_input = topi.squeeze().detach()  # detach from history as input\n",
    "\n",
    "            loss += criterion(decoder_output, target_tensor[di])\n",
    "            if decoder_input.item() == EOS_token:\n",
    "                break\n",
    "\n",
    "    loss.backward()\n",
    "\n",
    "    encoder_optimizer.step()\n",
    "    decoder_optimizer.step()\n",
    "\n",
    "    return loss.item() / target_length"
   ]
  },
  {
   "cell_type": "code",
   "execution_count": 81,
   "metadata": {
    "collapsed": true
   },
   "outputs": [],
   "source": [
    "import time\n",
    "import math\n",
    "\n",
    "\n",
    "def asMinutes(s):\n",
    "    m = math.floor(s / 60)\n",
    "    s -= m * 60\n",
    "    return '%dm %ds' % (m, s)\n",
    "\n",
    "\n",
    "def timeSince(since, percent):\n",
    "    now = time.time()\n",
    "    s = now - since\n",
    "    es = s / (percent)\n",
    "    rs = es - s\n",
    "    return '%s (- %s)' % (asMinutes(s), asMinutes(rs))"
   ]
  },
  {
   "cell_type": "code",
   "execution_count": 82,
   "metadata": {
    "collapsed": true
   },
   "outputs": [],
   "source": [
    "def trainIters(encoder, decoder, n_iters, print_every=1000, plot_every=100, learning_rate=0.01):\n",
    "    start = time.time()\n",
    "    plot_losses = []\n",
    "    print_loss_total = 0  # Reset every print_every\n",
    "    plot_loss_total = 0  # Reset every plot_every\n",
    "\n",
    "    encoder_optimizer = optim.SGD(encoder.parameters(), lr=learning_rate)\n",
    "    decoder_optimizer = optim.SGD(decoder.parameters(), lr=learning_rate)\n",
    "    temp = (int)(len(pairs)*0.8)\n",
    "    pairs_train = pairs[0:]\n",
    "    training_pairs = [tensorsFromPair(random.choice(pairs_train))\n",
    "                      for i in range(n_iters)]\n",
    "    criterion = nn.NLLLoss()\n",
    "\n",
    "    for iter in range(1, n_iters + 1):\n",
    "        training_pair = training_pairs[iter - 1]\n",
    "        input_tensor = training_pair[0]\n",
    "        target_tensor = training_pair[1]\n",
    "\n",
    "        loss = train(input_tensor, target_tensor, encoder,\n",
    "                     decoder, encoder_optimizer, decoder_optimizer, criterion)\n",
    "        print_loss_total += loss\n",
    "        plot_loss_total += loss\n",
    "\n",
    "        if iter % print_every == 0:\n",
    "            print_loss_avg = print_loss_total / print_every\n",
    "            print_loss_total = 0\n",
    "            print('%s (%d %d%%) %.4f' % (timeSince(start, iter / n_iters),\n",
    "                                         iter, iter / n_iters * 100, print_loss_avg))\n",
    "\n",
    "        if iter % plot_every == 0:\n",
    "            plot_loss_avg = plot_loss_total / plot_every\n",
    "            plot_losses.append(plot_loss_avg)\n",
    "            plot_loss_total = 0\n",
    "\n",
    "    showPlot(plot_losses)"
   ]
  },
  {
   "cell_type": "code",
   "execution_count": 83,
   "metadata": {
    "collapsed": true
   },
   "outputs": [],
   "source": [
    "import matplotlib.pyplot as plt\n",
    "plt.switch_backend('agg')\n",
    "import matplotlib.ticker as ticker\n",
    "import numpy as np\n",
    "\n",
    "\n",
    "def showPlot(points):\n",
    "    plt.figure()\n",
    "    fig, ax = plt.subplots()\n",
    "    # this locator puts ticks at regular intervals\n",
    "    loc = ticker.MultipleLocator(base=0.2)\n",
    "    ax.yaxis.set_major_locator(loc)\n",
    "    plt.plot(points)"
   ]
  },
  {
   "cell_type": "code",
   "execution_count": 84,
   "metadata": {
    "collapsed": true
   },
   "outputs": [],
   "source": [
    "def evaluate(encoder, decoder, sentence, max_length=MAX_LENGTH):\n",
    "    with torch.no_grad():\n",
    "        input_tensor = tensorFromSentence(input_lang, sentence)\n",
    "        input_length = input_tensor.size()[0]\n",
    "        encoder_hidden = encoder.initHidden()\n",
    "\n",
    "        encoder_outputs = torch.zeros(max_length, encoder.hidden_size, device=device)\n",
    "\n",
    "        for ei in range(input_length):\n",
    "            encoder_output, encoder_hidden = encoder(input_tensor[ei],\n",
    "                                                     encoder_hidden)\n",
    "            encoder_outputs[ei] += encoder_output[0, 0]\n",
    "\n",
    "        decoder_input = torch.tensor([[SOS_token]], device=device)  # SOS\n",
    "\n",
    "        decoder_hidden = encoder_hidden\n",
    "\n",
    "        decoded_words = []\n",
    "        decoder_attentions = torch.zeros(max_length, max_length)\n",
    "\n",
    "        for di in range(max_length):\n",
    "            decoder_output, decoder_hidden, decoder_attention = decoder(\n",
    "                decoder_input, decoder_hidden, encoder_outputs)\n",
    "            decoder_attentions[di] = decoder_attention.data\n",
    "            topv, topi = decoder_output.data.topk(1)\n",
    "            if topi.item() == EOS_token:\n",
    "                decoded_words.append('<EOS>')\n",
    "                break\n",
    "            else:\n",
    "                decoded_words.append(output_lang.index2word[topi.item()])\n",
    "\n",
    "            decoder_input = topi.squeeze().detach()\n",
    "\n",
    "        return decoded_words, decoder_attentions[:di + 1]"
   ]
  },
  {
   "cell_type": "code",
   "execution_count": 86,
   "metadata": {
    "collapsed": true
   },
   "outputs": [],
   "source": [
    "def evaluateRandomly(encoder, decoder):\n",
    "\n",
    "    out_sent = []\n",
    "    ref_sent = []\n",
    "    temp = (int)(len(pairs)*0.8)\n",
    "    pairs_test = pairs[temp:]\n",
    "    for pair in pairs_test :\n",
    "\n",
    "        output_words, attentions = evaluate(encoder, decoder, pair[0])\n",
    "        output_sentence = ' '.join(output_words)\n",
    "        out_sent.append(output_sentence)\n",
    "        ref_sent.append(pair[1])\n",
    "        \n",
    "    return ref_sent, out_sent\n"
   ]
  },
  {
   "cell_type": "code",
   "execution_count": 87,
   "metadata": {
    "scrolled": false
   },
   "outputs": [
    {
     "name": "stdout",
     "output_type": "stream",
     "text": [
      "2m 11s (- 85m 42s) (1000 2%) 5.4164\n",
      "4m 26s (- 84m 26s) (2000 5%) 5.3574\n",
      "6m 46s (- 83m 35s) (3000 7%) 5.2577\n",
      "9m 2s (- 81m 20s) (4000 10%) 5.1000\n",
      "11m 16s (- 78m 54s) (5000 12%) 5.0348\n",
      "13m 29s (- 76m 28s) (6000 15%) 4.8579\n",
      "15m 44s (- 74m 10s) (7000 17%) 4.7727\n",
      "17m 59s (- 71m 59s) (8000 20%) 4.7069\n",
      "20m 14s (- 69m 44s) (9000 22%) 4.5127\n",
      "22m 28s (- 67m 25s) (10000 25%) 4.4689\n",
      "24m 42s (- 65m 9s) (11000 27%) 4.3501\n",
      "26m 58s (- 62m 55s) (12000 30%) 4.1769\n",
      "29m 12s (- 60m 40s) (13000 32%) 4.1817\n",
      "31m 27s (- 58m 26s) (14000 35%) 4.0972\n",
      "33m 41s (- 56m 9s) (15000 37%) 3.9751\n",
      "35m 59s (- 53m 59s) (16000 40%) 3.7896\n",
      "38m 16s (- 51m 46s) (17000 42%) 3.7632\n",
      "40m 31s (- 49m 31s) (18000 45%) 3.6844\n",
      "42m 46s (- 47m 16s) (19000 47%) 3.6076\n",
      "45m 1s (- 45m 1s) (20000 50%) 3.4769\n",
      "47m 15s (- 42m 45s) (21000 52%) 3.2751\n",
      "49m 30s (- 40m 30s) (22000 55%) 3.2838\n",
      "51m 45s (- 38m 15s) (23000 57%) 3.2199\n",
      "54m 1s (- 36m 1s) (24000 60%) 3.2473\n",
      "56m 15s (- 33m 45s) (25000 62%) 3.0550\n",
      "58m 30s (- 31m 30s) (26000 65%) 2.9621\n",
      "60m 45s (- 29m 15s) (27000 67%) 2.9065\n",
      "63m 0s (- 27m 0s) (28000 70%) 2.8256\n",
      "65m 16s (- 24m 45s) (29000 72%) 2.7160\n",
      "67m 31s (- 22m 30s) (30000 75%) 2.6465\n",
      "69m 46s (- 20m 15s) (31000 77%) 2.5683\n",
      "72m 1s (- 18m 0s) (32000 80%) 2.5105\n",
      "74m 17s (- 15m 45s) (33000 82%) 2.4432\n",
      "76m 33s (- 13m 30s) (34000 85%) 2.4126\n",
      "78m 48s (- 11m 15s) (35000 87%) 2.2538\n",
      "81m 4s (- 9m 0s) (36000 90%) 2.2318\n",
      "83m 21s (- 6m 45s) (37000 92%) 2.1586\n",
      "85m 36s (- 4m 30s) (38000 95%) 2.0891\n",
      "87m 52s (- 2m 15s) (39000 97%) 2.0154\n",
      "90m 7s (- 0m 0s) (40000 100%) 1.9005\n"
     ]
    },
    {
     "data": {
      "text/plain": [
       "<Figure size 432x288 with 0 Axes>"
      ]
     },
     "metadata": {},
     "output_type": "display_data"
    },
    {
     "data": {
      "image/png": "[encoded data removed]",
      "text/plain": [
       "<Figure size 432x288 with 1 Axes>"
      ]
     },
     "metadata": {},
     "output_type": "display_data"
    }
   ],
   "source": [
    "hidden_size = 256\n",
    "encoder1 = EncoderRNN(input_lang.n_words, hidden_size).to(device)\n",
    "attn_decoder1 = AttnDecoderRNN(hidden_size, output_lang.n_words, dropout_p=0.1).to(device)\n",
    "\n",
    "trainIters(encoder1, attn_decoder1, 40000, print_every=1000)"
   ]
  },
  {
   "cell_type": "code",
   "execution_count": 88,
   "metadata": {
    "collapsed": true
   },
   "outputs": [],
   "source": [
    "ref_sent, out_sent = evaluateRandomly(encoder1, attn_decoder1)"
   ]
  },
  {
   "cell_type": "code",
   "execution_count": 89,
   "metadata": {},
   "outputs": [
    {
     "name": "stdout",
     "output_type": "stream",
     "text": [
      "नहाकर आत ।     नहाकर आत ह । <EOS>\n",
      "\n",
      "लट , बठ ।     इसक , , , । । <EOS>\n",
      "\n",
      "सिर मढात ।     सिर को । । <EOS>\n",
      "\n",
      "तरपण करत ।     उसकी को करना । <EOS>\n",
      "\n",
      "खाना पकात ।     खाना । <EOS>\n",
      "\n",
      "भजन करत ।     करत कर कर । <EOS>\n",
      "\n",
      "साधओ क चरणो म लोट लगात ।     साधओ क चरणो म होन : । <EOS>\n",
      "\n",
      "बिछडो को ढढत ।     बिछडो को । । <EOS>\n",
      "\n",
      "रोत ।     उसक । <EOS>\n",
      "\n",
      "कष‍टो की पोटली खोलत ।     अब की की की । <EOS>\n",
      "\n",
      "लोग एक - दसर स टकरा रह ह ।     एक - स एक स ह ह । । <EOS>\n",
      "\n",
      "उनका आपस म कोई रिशता नही ह ।     उनका कोई म कोई कोई नही ह । । <EOS>\n",
      "\n",
      "एक सतर म जोड हए ह ।     एक म म म म ह ह । <EOS>\n",
      "\n",
      "एक विराट दश बनाए हए ह ।     एक दश दश दश ह । <EOS>\n",
      "\n",
      "यह भारत ह ।     यह भारत भारत ह । <EOS>\n",
      "\n",
      "कया म भावक हो रहा ह ?     कया म म हो हो ह ह <EOS>\n",
      "\n",
      "यह सच मर सामन ह ।     यह सामन सामन ह । । <EOS>\n",
      "\n",
      "इलाहबाद भारत नही ह ।     इलाहबाद भारत नही ह । <EOS>\n",
      "\n",
      "पर यह कभ भारत ह ।     यह भारत भारत ह । <EOS>\n",
      "\n",
      "यह सिरफ भीड नही ह ।     यह एक नही नही । । <EOS>\n",
      "\n"
     ]
    }
   ],
   "source": [
    "for i in range(20) :\n",
    "    print(ref_sent[i] + \"     \" + out_sent[i])\n",
    "    print()"
   ]
  },
  {
   "cell_type": "code",
   "execution_count": 101,
   "metadata": {
    "collapsed": true
   },
   "outputs": [],
   "source": [
    "with open('reference.txt','w') as f:\n",
    "    for out in ref_sent :\n",
    "        f.write(out+'\\n')\n",
    "\n",
    "        \n",
    "            "
   ]
  },
  {
   "cell_type": "code",
   "execution_count": 94,
   "metadata": {},
   "outputs": [
    {
     "name": "stdout",
     "output_type": "stream",
     "text": [
      "983\n"
     ]
    }
   ],
   "source": [
    "print(len(ref_sent))"
   ]
  },
  {
   "cell_type": "code",
   "execution_count": 96,
   "metadata": {
    "collapsed": true
   },
   "outputs": [],
   "source": [
    "def evaluateRandomly1(encoder, decoder, n=10):\n",
    "    temp = (int)(len(pairs)*0.8)\n",
    "    pairs_test = pairs[temp:]\n",
    "    for i in range(n):\n",
    "        pair = random.choice(pairs_test)\n",
    "        print('>', pair[0])\n",
    "        print('=', pair[1])\n",
    "        output_words, attentions = evaluate(encoder, decoder, pair[0])\n",
    "        output_sentence = ' '.join(output_words)\n",
    "        print('<', output_sentence)\n",
    "        print('')"
   ]
  },
  {
   "cell_type": "code",
   "execution_count": 99,
   "metadata": {},
   "outputs": [
    {
     "name": "stdout",
     "output_type": "stream",
     "text": [
      "> 102 tunnels are in use among these .\n",
      "= इनम स अब 102 सरग इसतमाल म ह ।\n",
      "< इनम इनम स इनम म इसतमाल कर ह । <EOS>\n",
      "\n",
      "> the land is very fertile .\n",
      "= भमि बडी उपजाऊ ह ।\n",
      "< भमि बडी उपजाऊ ह । <EOS>\n",
      "\n",
      "> karauli is a historical place .\n",
      "= करौली एक ऐतिहासिक शहर ह ।\n",
      "< करौली एक ऐतिहासिक ह । <EOS>\n",
      "\n",
      "> birth of krishna is celebrated with much fanfare .\n",
      "= बडी धमधाम स कष‍णजनम मनाया जाता ह ।\n",
      "< बडी बडी म मनाया मनाया जाता ह । <EOS>\n",
      "\n",
      "> the national museum is situated at janpath .\n",
      "= राष‍टरीय सगरहालय जनपथ पर सथित ह ।\n",
      "< मसरी म पहाडी पर ह । । <EOS>\n",
      "\n",
      "> it is called ' seesa ' mountain .\n",
      "= इस ’ सीसा पहाड ’ कहा जाता ह ।\n",
      "< इस ही पहाड पहाड कहा कहा ह । <EOS>\n",
      "\n",
      "> but it was definitely not found deserted .\n",
      "= मगर वह वीरान हरगिज न मिला ।\n",
      "< मगर वह पर न न थ । । <EOS>\n",
      "\n",
      "> island safari of phuket is very popular .\n",
      "= फकत की आईलड सफारी काफी लोकपरिय ह ।\n",
      "< गौडचन बहत बहत लोकपरिय लोकपरिय ह । <EOS>\n",
      "\n",
      "> overall houses are concrete .\n",
      "= कल मकान पकक ह ।\n",
      "< कल मकान ह । <EOS>\n",
      "\n",
      "> this meeting can be seen clearly .\n",
      "= यह मिलन साफ दखा जा सकता ह ।\n",
      "< यह यह कवल दखा जा सकता ह । <EOS>\n",
      "\n"
     ]
    }
   ],
   "source": [
    "evaluateRandomly1(encoder1, attn_decoder1)"
   ]
  },
  {
   "cell_type": "code",
   "execution_count": 104,
   "metadata": {},
   "outputs": [
    {
     "name": "stderr",
     "output_type": "stream",
     "text": [
      "BLEU = 33.81, 559/10/327/10/283/10/126/5 (BP=1.0, ratio=1.132, hyp_len=8297, ref_len=7327)\n"
     ]
    }
   ],
   "source": [
    "%run bleu.py -t output.txt -r reference.txt"
   ]
  }
 ],
 "metadata": {
  "kernelspec": {
   "display_name": "pytorch_kernel",
   "language": "python",
   "name": "pytorch"
  },
  "language_info": {
   "codemirror_mode": {
    "name": "ipython",
    "version": 3
   },
   "file_extension": ".py",
   "mimetype": "text/x-python",
   "name": "python",
   "nbconvert_exporter": "python",
   "pygments_lexer": "ipython3",
   "version": "3.5.5"
  }
 },
 "nbformat": 4,
 "nbformat_minor": 2
}
