{
 "cells": [
  {
   "cell_type": "code",
   "execution_count": 16,
   "metadata": {},
   "outputs": [
    {
     "name": "stdout",
     "output_type": "stream",
     "text": [
      "2908\n"
     ]
    }
   ],
   "source": [
    "eng=open('English','r',encoding='UTF-8')\n",
    "bag=open('Hindi','r',encoding='UTF-8')\n",
    "count_len=0\n",
    "with open('eng-hin.txt','w',encoding='UTF-8') as f:\n",
    "    for line1,line2 in zip(eng,bag):\n",
    "        f1=[]\n",
    "        line3=''\n",
    "        line3 = line1.strip()\n",
    "        if len(line3.split()) == 10 :\n",
    "            count_len += 1 \n",
    "        string=line3+\"    \"+line2\n",
    "        f.write(str(string))\n",
    "print(count_len)"
   ]
  },
  {
   "cell_type": "code",
   "execution_count": null,
   "metadata": {},
   "outputs": [],
   "source": []
  }
 ],
 "metadata": {
  "kernelspec": {
   "display_name": "Python (myenv)",
   "language": "python",
   "name": "myenv"
  },
  "language_info": {
   "codemirror_mode": {
    "name": "ipython",
    "version": 3
   },
   "file_extension": ".py",
   "mimetype": "text/x-python",
   "name": "python",
   "nbconvert_exporter": "python",
   "pygments_lexer": "ipython3",
   "version": "3.6.5"
  }
 },
 "nbformat": 4,
 "nbformat_minor": 2
}
